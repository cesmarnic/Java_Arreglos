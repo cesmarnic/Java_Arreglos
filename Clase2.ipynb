{
 "cells": [
  {
   "attachments": {},
   "cell_type": "markdown",
   "metadata": {},
   "source": [
    "# Matrices en JAVA\n",
    "---\n",
    "Los Arreglos bidimensionales o matrices son arreglos de arreglos, es decir, son arreglos cuyos elementos son a su vez arreglos. En Java, los arreglos bidimensionales se declaran de la siguiente forma:\n",
    "\n",
    "```java\n",
    "tipo[][] nombreArreglo = new tipo[filas][columnas];\n",
    "```"
   ]
  }
 ],
 "metadata": {
  "language_info": {
   "name": "python"
  },
  "orig_nbformat": 4
 },
 "nbformat": 4,
 "nbformat_minor": 2
}
