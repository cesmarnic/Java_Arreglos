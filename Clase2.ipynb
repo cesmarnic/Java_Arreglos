{
 "cells": [
  {
   "attachments": {},
   "cell_type": "markdown",
   "metadata": {},
   "source": [
    "# Matrices en JAVA\n",
    "---\n",
    "Los Arreglos bidimensionales o matrices son arreglos de arreglos, es decir, son arreglos cuyos elementos son a su vez arreglos. En Java, los arreglos bidimensionales se declaran de la siguiente forma:\n",
    "\n",
    "```java\n",
    "tipo[][] nombreArreglo = new tipo[filas][columnas];\n",
    "```\n",
    "\n",
    "Ejemplo: una matriz 3x3 de enteros\n",
    "```java\n",
    "int[][] matriz = new int[3][3];\n",
    "```\n",
    "## Matrices y sus indices, acceso a los elementos y valores predeterminados\n",
    "Para crear una matriz con valores predeterminados, se puede hacer de la siguiente forma:\n",
    "```java\n",
    "int[][] matriz = {{1,2,3},{4,5,6},{7,8,9}};\n",
    "```\n",
    "\n",
    "Para acceder a los elementos de una matriz se utiliza la siguiente sintaxis:\n",
    "```java\n",
    "matriz[fila][columna]\n",
    "```\n",
    "\n",
    "## Recorrido de una matriz\n",
    "Para asignarle valores a una matriz se utiliza un ciclo for anidado, de la siguiente forma:\n",
    "```java\n",
    "for(int f = 0; f < matriz.length; f++){\n",
    "    for(int c = 0; c < matriz[i].length; c++){\n",
    "        matriz[f][c] = leer.nextInt();\n",
    "    }\n",
    "}\n",
    "```\n",
    "\n",
    "Para recorrer una matriz se utiliza un ciclo for anidado, de la siguiente forma:\n",
    "```java\n",
    "for(int f = 0; f < matriz.length; f++){\n",
    "    for(int c = 0; c < matriz[i].length; c++){\n",
    "        System.out.println(matriz[f][c]);\n",
    "    }\n",
    "}\n",
    "```\n"
   ]
  }
 ],
 "metadata": {
  "language_info": {
   "name": "python"
  },
  "orig_nbformat": 4
 },
 "nbformat": 4,
 "nbformat_minor": 2
}
